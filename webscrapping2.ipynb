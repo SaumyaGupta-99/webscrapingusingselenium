{
 "cells": [
  {
   "cell_type": "code",
   "execution_count": 1,
   "metadata": {},
   "outputs": [],
   "source": [
    "from selenium import webdriver\n",
    "from selenium.webdriver.chrome.options import Options\n",
    "from selenium.webdriver.common.by import By \n",
    "from selenium.webdriver.support.ui import WebDriverWait \n",
    "from selenium.webdriver.support import expected_conditions as EC \n",
    "from selenium.common.exceptions import TimeoutException\n",
    "import pandas as pd\n",
    "from stockstats import StockDataFrame\n",
    "import time\n",
    "import datetime"
   ]
  },
  {
   "cell_type": "code",
   "execution_count": null,
   "metadata": {},
   "outputs": [],
   "source": [
    "now = datetime.datetime.now()\n",
    "now_plus_10 = now + datetime.timedelta(minutes = 10)\n",
    "chg=[]\n",
    "name=[]\n",
    "chrome_options= Options()\n",
    "chrome_options.add_argument('--no-sandbox')\n",
    "chrome_options.add_argument(\"--disable-setuid-sandbox\")\n",
    "chrome_options.add_argument(\"--user-data-dir=/home/saumya/.config/google-chrome/Default\")\n",
    "browser = webdriver.Chrome(executable_path='/home/saumya/Downloads/chromedriver_linux64/chromedriver')\n",
    "browser.get(\"https://www.moneycontrol.com/stocks/marketstats/indexcomp.php?optex=NSE&opttopic=indexcomp&index=9\")\n",
    "def calc_main():\n",
    "    l=browser.find_elements_by_xpath(\"//*[@id='mc_mainWrapper']/div[3]/div[1]/div[7]/div[2]/div/table/tbody/tr\")\n",
    "    print(len(l))\n",
    "    for i in range (2,len(l)):\n",
    "        t1 =browser.find_element_by_xpath(\"//*[@id='mc_mainWrapper']/div[3]/div[1]/div[7]/div[2]/div/table/tbody/tr[\"+str(i)+\"]/td[5]\")\n",
    "        chg.append(t1)\n",
    "        t2 = browser.find_element_by_xpath(\"//*[@id='mc_mainWrapper']/div[3]/div[1]/div[7]/div[2]/div/table/tbody/tr[\"+str(i)+\"]/td[1]/a/b\")\n",
    "        name.append(t2)\n",
    "    chg = [x.text for x in chg]\n",
    "    name = [x.text for x in name]\n",
    "    print(chg)\n",
    "    print(name)\n",
    "def alert():\n",
    "    chg = [float(x) for x in chg]\n",
    "    df=pd.DataFrame(chg,columns=['%chg'])\n",
    "    print(df)\n",
    "    stock=StockDataFrame.retype(df)\n",
    "    ch=stock['%chg_2_d']\n",
    "    for y in range(len(ch)):\n",
    "        if(ch[y]>2):\n",
    "            print(name[y]+' has change greater than 2%')    \n",
    "while(True):\n",
    "    calc_main()\n",
    "    browser.refresh()\n",
    "    time.sleep(30)\n",
    "    present=datetime.datetime.now()\n",
    "    if(present==now_plus_10):\n",
    "        break\n",
    "alert()"
   ]
  }
 ],
 "metadata": {
  "kernelspec": {
   "display_name": "Python 3",
   "language": "python",
   "name": "python3"
  },
  "language_info": {
   "codemirror_mode": {
    "name": "ipython",
    "version": 3
   },
   "file_extension": ".py",
   "mimetype": "text/x-python",
   "name": "python",
   "nbconvert_exporter": "python",
   "pygments_lexer": "ipython3",
   "version": "3.7.5"
  }
 },
 "nbformat": 4,
 "nbformat_minor": 4
}
